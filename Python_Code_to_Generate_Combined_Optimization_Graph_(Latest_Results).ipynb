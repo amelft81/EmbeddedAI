{
  "cells": [
    {
      "cell_type": "markdown",
      "metadata": {
        "id": "view-in-github",
        "colab_type": "text"
      },
      "source": [
        "<a href=\"https://colab.research.google.com/github/amelft81/EmbeddedAI/blob/main/Python_Code_to_Generate_Combined_Optimization_Graph_(Latest_Results).ipynb\" target=\"_parent\"><img src=\"https://colab.research.google.com/assets/colab-badge.svg\" alt=\"Open In Colab\"/></a>"
      ]
    },
    {
      "cell_type": "code",
      "source": [
        "import matplotlib.pyplot as plt\n",
        "import numpy as np\n",
        "import os\n",
        "\n",
        "def generate_combined_optimization_graph():\n",
        "    \"\"\"\n",
        "    Generates a bar graph comparing the sizes of different model versions,\n",
        "    including baseline, latest quantized, and latest pruned models.\n",
        "    Saves the graph as 'combined_optimization_latest_results_graph.png'.\n",
        "    The y-axis will now use a logarithmic scale for better clarity of smaller values.\n",
        "    \"\"\"\n",
        "    # Model sizes in KB, directly from your latest provided results\n",
        "    model_sizes = {\n",
        "        \"Baseline (.h5)\": 15422.55,\n",
        "        \"Pruned TFLite (Aggressive)\": 1.99, # From previous successful pruning\n",
        "        \"Dynamic Range Quantized TFLite\": 2.02, # From latest quantization output\n",
        "        \"Full Integer Quantized TFLite\": 2.58, # From latest quantization output\n",
        "    }\n",
        "\n",
        "    # Sort the models by size for better visualization (smallest to largest)\n",
        "    sorted_models = sorted(model_sizes.items(), key=lambda item: item[1])\n",
        "    labels = [item[0] for item in sorted_models]\n",
        "    sizes = [item[1] for item in sorted_models]\n",
        "\n",
        "    # Define colors for each bar to make it visually distinct\n",
        "    colors = ['mediumpurple', 'lightcoral', 'lightgreen', 'skyblue'] # Assign colors to sorted order\n",
        "\n",
        "    x = np.arange(len(labels)) # Label locations on the x-axis\n",
        "    width = 0.6 # Width of the bars\n",
        "\n",
        "    # Create the figure and axes for the plot\n",
        "    fig, ax = plt.subplots(figsize=(12, 7)) # Adjust figure size for better readability\n",
        "\n",
        "    # Create the bar chart\n",
        "    bars = ax.bar(x, sizes, width, color=colors)\n",
        "\n",
        "    # Add labels, title, and custom x-axis tick labels\n",
        "    ax.set_ylabel('Model Size (KB)', fontsize=12)\n",
        "    ax.set_title('Model Size Comparison: Baseline, Pruned, and Quantized Models (Log Scale)', fontsize=14)\n",
        "    ax.set_xticks(x)\n",
        "    ax.set_xticklabels(labels, rotation=45, ha='right', fontsize=10) # Rotate labels for readability\n",
        "    ax.tick_params(axis='y', labelsize=10) # Set font size for y-axis ticks\n",
        "\n",
        "    # --- KEY CHANGE: Set y-axis to logarithmic scale ---\n",
        "    ax.set_yscale('log')\n",
        "    # Set y-axis limits to ensure all bars are visible and readable,\n",
        "    # especially important for log scale where 0 is undefined.\n",
        "    # Start slightly above 0 for the minimum value.\n",
        "    min_size = min(s for s in sizes if s > 0) # Get smallest non-zero size\n",
        "    ax.set_ylim(min_size * 0.5, max(sizes) * 1.5) # Adjust limits for better visual spread\n",
        "\n",
        "\n",
        "    # Add size values on top of the bars for clarity\n",
        "    for bar in bars:\n",
        "        height = bar.get_height()\n",
        "        ax.annotate(f'{height:.2f} KB', # Format the text to show KB\n",
        "                    xy=(bar.get_x() + bar.get_width() / 2, height), # Position text above the bar\n",
        "                    xytext=(0, 5),  # 5 points vertical offset from the top of the bar\n",
        "                    textcoords=\"offset points\", # Interpret xytext as offset from xy\n",
        "                    ha='center', va='bottom', fontsize=9) # Horizontal and vertical alignment\n",
        "\n",
        "    # Improve layout to prevent labels from overlapping\n",
        "    plt.tight_layout()\n",
        "\n",
        "    # Define the filename for the saved graph\n",
        "    graph_filename = 'combined_optimization_latest_results_graph_log_scale.png' # Changed filename to reflect log scale\n",
        "    plt.savefig(graph_filename) # Save the plot as a PNG file\n",
        "    plt.close(fig) # Close the plot to free up memory\n",
        "\n",
        "    print(f\"Graph saved as '{graph_filename}'\")\n",
        "    print(\"You can view this image file to see the updated comparison of model sizes with a logarithmic scale.\")\n",
        "\n",
        "if __name__ == \"__main__\":\n",
        "    # Ensure matplotlib is installed: pip install matplotlib\n",
        "    generate_combined_optimization_graph()"
      ],
      "outputs": [
        {
          "output_type": "stream",
          "name": "stdout",
          "text": [
            "Graph saved as 'combined_optimization_latest_results_graph_log_scale.png'\n",
            "You can view this image file to see the updated comparison of model sizes with a logarithmic scale.\n"
          ]
        }
      ],
      "execution_count": 1,
      "metadata": {
        "colab": {
          "base_uri": "https://localhost:8080/"
        },
        "id": "8uIrmS8g88x6",
        "outputId": "c4da195b-2b81-4208-dd57-79ea956342d0"
      }
    }
  ],
  "metadata": {
    "colab": {
      "provenance": [],
      "include_colab_link": true
    },
    "kernelspec": {
      "display_name": "Python 3",
      "name": "python3"
    }
  },
  "nbformat": 4,
  "nbformat_minor": 0
}