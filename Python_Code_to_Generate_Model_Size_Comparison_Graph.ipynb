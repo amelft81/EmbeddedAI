{
  "cells": [
    {
      "cell_type": "markdown",
      "metadata": {
        "id": "view-in-github",
        "colab_type": "text"
      },
      "source": [
        "<a href=\"https://colab.research.google.com/github/amelft81/EmbeddedAI/blob/main/Python_Code_to_Generate_Model_Size_Comparison_Graph.ipynb\" target=\"_parent\"><img src=\"https://colab.research.google.com/assets/colab-badge.svg\" alt=\"Open In Colab\"/></a>"
      ]
    },
    {
      "cell_type": "code",
      "source": [
        "import matplotlib.pyplot as plt\n",
        "import numpy as np\n",
        "import os\n",
        "\n",
        "def generate_model_size_graph_from_results():\n",
        "    \"\"\"\n",
        "    Generates a bar graph comparing the sizes of different model versions\n",
        "    based on the provided results.\n",
        "    Saves the graph as 'model_optimization_results_graph.png'.\n",
        "    \"\"\"\n",
        "    # Model sizes in KB, directly from your provided results\n",
        "    model_sizes = {\n",
        "        \"Baseline (.h5)\": 15422.55,\n",
        "        \"Dynamic Range Quantized TFLite\": 3856.03,\n",
        "        \"Full Integer Quantized TFLite\": 3854.87,\n",
        "        \"Pruned TFLite\": 15407.12,\n",
        "        \"Quantization-Aware Trained TFLite\": 3855.23\n",
        "    }\n",
        "\n",
        "    labels = list(model_sizes.keys())\n",
        "    sizes = list(model_sizes.values())\n",
        "\n",
        "    # Define colors for each bar to make it visually distinct\n",
        "    colors = ['skyblue', 'lightcoral', 'lightgreen', 'orange', 'gold']\n",
        "\n",
        "    x = np.arange(len(labels)) # Label locations on the x-axis\n",
        "    width = 0.6 # Width of the bars\n",
        "\n",
        "    # Create the figure and axes for the plot\n",
        "    fig, ax = plt.subplots(figsize=(12, 7)) # Adjust figure size for better readability\n",
        "\n",
        "    # Create the bar chart\n",
        "    bars = ax.bar(x, sizes, width, color=colors)\n",
        "\n",
        "    # Add labels, title, and custom x-axis tick labels\n",
        "    ax.set_ylabel('Model Size (KB)', fontsize=12)\n",
        "    ax.set_title('Model Size Comparison After Optimization', fontsize=14)\n",
        "    ax.set_xticks(x)\n",
        "    ax.set_xticklabels(labels, rotation=45, ha='right', fontsize=10) # Rotate labels for readability\n",
        "    ax.tick_params(axis='y', labelsize=10) # Set font size for y-axis ticks\n",
        "\n",
        "    # Add size values on top of the bars for clarity\n",
        "    for bar in bars:\n",
        "        height = bar.get_height()\n",
        "        ax.annotate(f'{height:.2f} KB', # Format the text to show KB\n",
        "                    xy=(bar.get_x() + bar.get_width() / 2, height), # Position text above the bar\n",
        "                    xytext=(0, 3),  # 3 points vertical offset from the top of the bar\n",
        "                    textcoords=\"offset points\", # Interpret xytext as offset from xy\n",
        "                    ha='center', va='bottom', fontsize=9) # Horizontal and vertical alignment\n",
        "\n",
        "    # Improve lay"
      ],
      "outputs": [],
      "execution_count": 2,
      "metadata": {
        "id": "4BrzR9jkzgE6"
      }
    }
  ],
  "metadata": {
    "colab": {
      "provenance": [],
      "include_colab_link": true
    },
    "kernelspec": {
      "display_name": "Python 3",
      "name": "python3"
    }
  },
  "nbformat": 4,
  "nbformat_minor": 0
}