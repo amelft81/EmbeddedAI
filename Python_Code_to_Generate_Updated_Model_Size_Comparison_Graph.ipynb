{
  "cells": [
    {
      "cell_type": "markdown",
      "metadata": {
        "id": "view-in-github",
        "colab_type": "text"
      },
      "source": [
        "<a href=\"https://colab.research.google.com/github/amelft81/EmbeddedAI/blob/main/Python_Code_to_Generate_Updated_Model_Size_Comparison_Graph.ipynb\" target=\"_parent\"><img src=\"https://colab.research.google.com/assets/colab-badge.svg\" alt=\"Open In Colab\"/></a>"
      ]
    },
    {
      "cell_type": "code",
      "source": [
        "import matplotlib.pyplot as plt\n",
        "import numpy as np\n",
        "import os\n",
        "\n",
        "def generate_model_size_graph_from_latest_results():\n",
        "    \"\"\"\n",
        "    Generates a bar graph comparing the sizes of different model versions,\n",
        "    including baseline, quantized, and the newly pruned model.\n",
        "    Saves the graph as 'model_optimization_latest_results_graph.png'.\n",
        "    \"\"\"\n",
        "    # Model sizes in KB, directly from your provided results, including the latest pruned size\n",
        "    model_sizes = {\n",
        "        \"Baseline (.h5)\": 15422.55,\n",
        "        \"Dynamic Range Quantized TFLite\": 3856.03,\n",
        "        \"Full Integer Quantized TFLite\": 3854.87,\n",
        "        \"Quantization-Aware Trained TFLite\": 3855.23,\n",
        "        \"Pruned TFLite (New)\": 1.99 # Your latest successful pruning result!\n",
        "    }\n",
        "\n",
        "    labels = list(model_sizes.keys())\n",
        "    sizes = list(model_sizes.values())\n",
        "\n",
        "    # Define colors for each bar to make it visually distinct\n",
        "    colors = ['skyblue', 'lightcoral', 'lightgreen', 'gold', 'mediumpurple']\n",
        "\n",
        "    x = np.arange(len(labels)) # Label locations on the x-axis\n",
        "    width = 0.6 # Width of the bars\n",
        "\n",
        "    # Create the figure and axes for the plot\n",
        "    fig, ax = plt.subplots(figsize=(14, 8)) # Adjust figure size for better readability\n",
        "\n",
        "    # Create the bar chart\n",
        "    bars = ax.bar(x, sizes, width, color=colors)\n",
        "\n",
        "    # Add labels, title, and custom x-axis tick labels\n",
        "    ax.set_ylabel('Model Size (KB)', fontsize=12)\n",
        "    ax.set_title('Model Size Comparison After Optimization (Latest Results)', fontsize=14)\n",
        "    ax.set_xticks(x)\n",
        "    ax.set_xticklabels(labels, rotation=45, ha='right', fontsize=10) # Rotate labels for readability\n",
        "    ax.tick_params(axis='y', labelsize=10) # Set font size for y-axis ticks\n",
        "\n",
        "    # Add size values on top of the bars for clarity\n",
        "    for bar in bars:\n",
        "        height = bar.get_height()\n",
        "        ax.annotate(f'{height:.2f} KB', # Format the text to show KB\n",
        "                    xy=(bar.get_x() + bar.get_width() / 2, height), # Position text above the bar\n",
        "                    xytext=(0, 3),  # 3 points vertical offset from the top of the bar\n",
        "                    textcoords=\"offset points\", # Interpret xytext as offset from xy\n",
        "                    ha='center', va='bottom', fontsize=9) # Horizontal and vertical alignment\n",
        "\n",
        "    # Set y-axis limits to better visualize the smaller values, but ensure baseline is fully visible\n",
        "    # This will make the difference between pruned and quantized models more apparent\n",
        "    # You might need to adjust this if your values change significantly\n",
        "    ax.set_ylim(0, max(sizes) * 1.1)\n",
        "\n",
        "\n",
        "    # Improve layout to prevent labels from overlapping\n",
        "    plt.tight_layout()\n",
        "\n",
        "    # Define the filename for the saved graph\n",
        "    graph_filename = 'model_optimization_latest_results_graph.png'\n",
        "    plt.savefig(graph_filename) # Save the plot as a PNG file\n",
        "    plt.close(fig) # Close the plot to free up memory\n",
        "\n",
        "    print(f\"Graph saved as '{graph_filename}'\")\n",
        "    print(\"You can view this image file to see the updated comparison of model sizes.\")\n",
        "\n",
        "if __name__ == \"__main__\":\n",
        "    # Ensure matplotlib is installed: pip install matplotlib\n",
        "    generate_model_size_graph_from_latest_results()"
      ],
      "outputs": [
        {
          "output_type": "stream",
          "name": "stdout",
          "text": [
            "Graph saved as 'model_optimization_latest_results_graph.png'\n",
            "You can view this image file to see the updated comparison of model sizes.\n"
          ]
        }
      ],
      "execution_count": 1,
      "metadata": {
        "id": "2ylB63XR6A_P",
        "outputId": "afdd8a11-19a5-4a46-c6d2-4c81315cc5aa",
        "colab": {
          "base_uri": "https://localhost:8080/"
        }
      }
    }
  ],
  "metadata": {
    "colab": {
      "provenance": [],
      "include_colab_link": true
    },
    "kernelspec": {
      "display_name": "Python 3",
      "name": "python3"
    }
  },
  "nbformat": 4,
  "nbformat_minor": 0
}